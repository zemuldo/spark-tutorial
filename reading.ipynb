{
 "cells": [
  {
   "cell_type": "code",
   "execution_count": 8,
   "metadata": {},
   "outputs": [
    {
     "name": "stdout",
     "output_type": "stream",
     "text": [
      "+--------------+\n",
      "|Country/Region|\n",
      "+--------------+\n",
      "|   Afghanistan|\n",
      "|       Albania|\n",
      "|       Algeria|\n",
      "+--------------+\n",
      "\n",
      "+--------------+------+---------+\n",
      "|Country/Region|Deaths|Recovered|\n",
      "+--------------+------+---------+\n",
      "|   Afghanistan|  1269|    25198|\n",
      "|       Albania|   144|     2745|\n",
      "|       Algeria|  1163|    18837|\n",
      "+--------------+------+---------+\n",
      "\n"
     ]
    }
   ],
   "source": [
    "import pyspark\n",
    "from pyspark import SQLContext\n",
    "sc = SparkContext.getOrCreate();\n",
    "sql = SQLContext(sc)\n",
    "\n",
    "df = (sql.read\n",
    "         .format(\"com.databricks.spark.csv\")\n",
    "         .option(\"header\", \"true\")\n",
    "         .load(\"covid_dataset/country_wise_latest.csv\"))\n",
    "\n",
    "df.printSchema()\n",
    "df.limit(3).show()"
   ]
  },
  {
   "cell_type": "code",
   "execution_count": 12,
   "metadata": {},
   "outputs": [
    {
     "name": "stdout",
     "output_type": "stream",
     "text": [
      "root\n",
      " |-- Country/Region: string (nullable = true)\n",
      " |-- Population: string (nullable = true)\n",
      " |-- Urban Pop %: string (nullable = true)\n",
      " |-- World Share %: string (nullable = true)\n",
      " |-- Med. Age: string (nullable = true)\n",
      "\n",
      "+--------------+----------+-----------+-------------+--------+\n",
      "|Country/Region|Population|Urban Pop %|World Share %|Med. Age|\n",
      "+--------------+----------+-----------+-------------+--------+\n",
      "|         China|1440297825|         61|        18.47|      38|\n",
      "|         India|1382345085|         35|        17.70|      28|\n",
      "| United States| 331341050|         83|         4.25|      38|\n",
      "+--------------+----------+-----------+-------------+--------+\n",
      "\n"
     ]
    }
   ],
   "source": [
    "import pyspark\n",
    "import pyspark.sql.types as Types\n",
    "from pyspark.sql import SparkSession\n",
    "\n",
    "appName = \"PySpark Example - JSON file to Spark Data Frame\"\n",
    "master = \"local\"\n",
    "\n",
    "# Create Spark session\n",
    "spark = SparkSession.builder \\\n",
    "    .appName(appName) \\\n",
    "    .master(master) \\\n",
    "    .getOrCreate()\n",
    "\n",
    "# Create a schema for the dataframe\n",
    "schema = Types.StructType([\n",
    "    Types.StructField('Country/Region', Types.StringType(), True),\n",
    "    Types.StructField('Population', Types.StringType(), True),\n",
    "    Types.StructField('Urban Pop %', Types.StringType(), True),\n",
    "    Types.StructField('World Share %', Types.StringType(), True),\n",
    "    Types.StructField('Med. Age', Types.StringType(), True)\n",
    "])\n",
    "\n",
    "# Create data frame\n",
    "df = spark\\\n",
    "    .read\\\n",
    "    .json(\"world_population/population.json\", schema, multiLine=True)\n",
    "df.printSchema()\n",
    "df.limit(3).show()"
   ]
  },
  {
   "cell_type": "code",
   "execution_count": 13,
   "metadata": {},
   "outputs": [
    {
     "name": "stdout",
     "output_type": "stream",
     "text": [
      "root\n",
      " |-- payment_id: integer (nullable = true)\n",
      " |-- customer_id: short (nullable = true)\n",
      " |-- staff_id: short (nullable = true)\n",
      " |-- rental_id: integer (nullable = true)\n",
      " |-- amount: decimal(5,2) (nullable = true)\n",
      " |-- payment_date: timestamp (nullable = true)\n",
      "\n"
     ]
    }
   ],
   "source": [
    "from pyspark.sql import SparkSession\n",
    "\n",
    "spark = SparkSession \\\n",
    "    .builder \\\n",
    "    .appName(\"Python Spark SQL basic example\") \\\n",
    "    .config(\"spark.jars\", \"jars/postgresql-42.2.16.jar\") \\\n",
    "    .getOrCreate()\n",
    "\n",
    "df = spark.read \\\n",
    "    .format(\"jdbc\") \\\n",
    "    .option(\"url\", \"jdbc:postgresql://localhost:5432/dvdrental\") \\\n",
    "    .option(\"dbtable\", \"payment\") \\\n",
    "    .option(\"user\", \"postgres\") \\\n",
    "    .option(\"password\", \"postgres\") \\\n",
    "    .option(\"driver\", \"org.postgresql.Driver\") \\\n",
    "    .load()\n",
    "\n",
    "df.printSchema()"
   ]
  },
  {
   "cell_type": "code",
   "execution_count": null,
   "metadata": {},
   "outputs": [],
   "source": []
  },
  {
   "cell_type": "code",
   "execution_count": null,
   "metadata": {},
   "outputs": [],
   "source": []
  },
  {
   "cell_type": "code",
   "execution_count": null,
   "metadata": {},
   "outputs": [],
   "source": []
  },
  {
   "cell_type": "code",
   "execution_count": null,
   "metadata": {},
   "outputs": [],
   "source": []
  },
  {
   "cell_type": "code",
   "execution_count": null,
   "metadata": {},
   "outputs": [],
   "source": []
  },
  {
   "cell_type": "code",
   "execution_count": null,
   "metadata": {},
   "outputs": [],
   "source": []
  },
  {
   "cell_type": "code",
   "execution_count": null,
   "metadata": {},
   "outputs": [],
   "source": []
  }
 ],
 "metadata": {
  "kernelspec": {
   "display_name": "Python 3",
   "language": "python",
   "name": "python3"
  },
  "language_info": {
   "codemirror_mode": {
    "name": "ipython",
    "version": 3
   },
   "file_extension": ".py",
   "mimetype": "text/x-python",
   "name": "python",
   "nbconvert_exporter": "python",
   "pygments_lexer": "ipython3",
   "version": "3.8.3"
  }
 },
 "nbformat": 4,
 "nbformat_minor": 4
}
