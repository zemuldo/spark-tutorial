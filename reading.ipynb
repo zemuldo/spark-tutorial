{
 "cells": [
  {
   "cell_type": "code",
   "execution_count": 26,
   "metadata": {},
   "outputs": [
    {
     "name": "stdout",
     "output_type": "stream",
     "text": [
      "root\n",
      " |-- Country/Region: string (nullable = true)\n",
      " |-- Confirmed: string (nullable = true)\n",
      " |-- Deaths: string (nullable = true)\n",
      " |-- Recovered: string (nullable = true)\n",
      " |-- Active: string (nullable = true)\n",
      " |-- New cases: string (nullable = true)\n",
      " |-- New deaths: string (nullable = true)\n",
      " |-- New recovered: string (nullable = true)\n",
      " |-- Deaths / 100 Cases: string (nullable = true)\n",
      " |-- Recovered / 100 Cases: string (nullable = true)\n",
      " |-- Deaths / 100 Recovered: string (nullable = true)\n",
      " |-- Confirmed last week: string (nullable = true)\n",
      " |-- 1 week change: string (nullable = true)\n",
      " |-- 1 week % increase: string (nullable = true)\n",
      " |-- WHO Region: string (nullable = true)\n",
      "\n",
      "+--------------+---------+------+---------+------+---------+----------+-------------+------------------+---------------------+----------------------+-------------------+-------------+-----------------+--------------------+\n",
      "|Country/Region|Confirmed|Deaths|Recovered|Active|New cases|New deaths|New recovered|Deaths / 100 Cases|Recovered / 100 Cases|Deaths / 100 Recovered|Confirmed last week|1 week change|1 week % increase|          WHO Region|\n",
      "+--------------+---------+------+---------+------+---------+----------+-------------+------------------+---------------------+----------------------+-------------------+-------------+-----------------+--------------------+\n",
      "|   Afghanistan|    36263|  1269|    25198|  9796|      106|        10|           18|               3.5|                69.49|                  5.04|              35526|          737|             2.07|Eastern Mediterra...|\n",
      "|       Albania|     4880|   144|     2745|  1991|      117|         6|           63|              2.95|                56.25|                  5.25|               4171|          709|             17.0|              Europe|\n",
      "|       Algeria|    27973|  1163|    18837|  7973|      616|         8|          749|              4.16|                67.34|                  6.17|              23691|         4282|            18.07|              Africa|\n",
      "+--------------+---------+------+---------+------+---------+----------+-------------+------------------+---------------------+----------------------+-------------------+-------------+-----------------+--------------------+\n",
      "\n"
     ]
    }
   ],
   "source": [
    "import pyspark\n",
    "from pyspark import SQLContext\n",
    "sc = SparkContext.getOrCreate();\n",
    "sql = SQLContext(sc)\n",
    "\n",
    "df = (sql.read\n",
    "         .format(\"com.databricks.spark.csv\")\n",
    "         .option(\"header\", \"true\")\n",
    "         .load(\"covid_dataset/country_wise_latest.csv\"))\n",
    "\n",
    "df.printSchema()\n",
    "df.limit(3).show()"
   ]
  },
  {
   "cell_type": "code",
   "execution_count": 25,
   "metadata": {},
   "outputs": [
    {
     "name": "stdout",
     "output_type": "stream",
     "text": [
      "root\n",
      " |-- Country/Region: string (nullable = true)\n",
      " |-- Population: string (nullable = true)\n",
      " |-- Urban Pop %: string (nullable = true)\n",
      " |-- World Share %: string (nullable = true)\n",
      " |-- Med. Age: string (nullable = true)\n",
      "\n",
      "+--------------+----------+-----------+-------------+--------+\n",
      "|Country/Region|Population|Urban Pop %|World Share %|Med. Age|\n",
      "+--------------+----------+-----------+-------------+--------+\n",
      "|         China|1440297825|         61|        18.47|      38|\n",
      "|         India|1382345085|         35|        17.70|      28|\n",
      "| United States| 331341050|         83|         4.25|      38|\n",
      "+--------------+----------+-----------+-------------+--------+\n",
      "\n"
     ]
    }
   ],
   "source": [
    "import pyspark\n",
    "import pyspark.sql.types as Types\n",
    "from pyspark.sql import SparkSession\n",
    "\n",
    "spark = SparkSession.builder \\\n",
    "    .appName(appName) \\\n",
    "    .master(master) \\\n",
    "    .getOrCreate()\n",
    "\n",
    "schema = Types.StructType([\n",
    "    Types.StructField('Country/Region', Types.StringType(), True),\n",
    "    Types.StructField('Population', Types.StringType(), True),\n",
    "    Types.StructField('Urban Pop %', Types.StringType(), True),\n",
    "    Types.StructField('World Share %', Types.StringType(), True),\n",
    "    Types.StructField('Med. Age', Types.StringType(), True)\n",
    "])\n",
    "\n",
    "df = spark\\\n",
    "    .read\\\n",
    "    .json(\"world_population/population.json\", schema, multiLine=True)\n",
    "df.printSchema()\n",
    "df.limit(3).show()"
   ]
  },
  {
   "cell_type": "code",
   "execution_count": 24,
   "metadata": {},
   "outputs": [
    {
     "name": "stdout",
     "output_type": "stream",
     "text": [
      "root\n",
      " |-- payment_id: integer (nullable = true)\n",
      " |-- customer_id: short (nullable = true)\n",
      " |-- staff_id: short (nullable = true)\n",
      " |-- rental_id: integer (nullable = true)\n",
      " |-- amount: decimal(5,2) (nullable = true)\n",
      " |-- payment_date: timestamp (nullable = true)\n",
      "\n",
      "+----------+-----------+--------+---------+------+--------------------+\n",
      "|payment_id|customer_id|staff_id|rental_id|amount|        payment_date|\n",
      "+----------+-----------+--------+---------+------+--------------------+\n",
      "|     17503|        341|       2|     1520|  7.99|2007-02-15 22:25:...|\n",
      "|     17505|        341|       1|     1849|  7.99|2007-02-16 22:41:...|\n",
      "|     17506|        341|       2|     2829|  2.99|2007-02-19 19:39:...|\n",
      "+----------+-----------+--------+---------+------+--------------------+\n",
      "\n"
     ]
    }
   ],
   "source": [
    "from pyspark.sql import SparkSession\n",
    "\n",
    "spark = SparkSession \\\n",
    "    .builder \\\n",
    "    .appName(\"Python Spark SQL basic example\") \\\n",
    "    .config(\"spark.jars\", \"jars/postgresql-42.2.16.jar\") \\\n",
    "    .getOrCreate()\n",
    "\n",
    "df = spark.read \\\n",
    "    .format(\"jdbc\") \\\n",
    "    .option(\"url\", \"jdbc:postgresql://localhost:5432/dvdrental\") \\\n",
    "    .option(\"dbtable\", \"payment\") \\\n",
    "    .option(\"user\", \"postgres\") \\\n",
    "    .option(\"password\", \"postgres\") \\\n",
    "    .option(\"driver\", \"org.postgresql.Driver\") \\\n",
    "    .load()\n",
    "\n",
    "df.printSchema()\n",
    "\n",
    "df = df.createOrReplaceTempView(\"payment_table_view\")\n",
    "df = spark.sql(\"Select * from payment_table_view where amount > 2.00\")\n",
    "df.limit(3).show()"
   ]
  },
  {
   "cell_type": "code",
   "execution_count": null,
   "metadata": {},
   "outputs": [],
   "source": []
  },
  {
   "cell_type": "code",
   "execution_count": null,
   "metadata": {},
   "outputs": [],
   "source": []
  },
  {
   "cell_type": "code",
   "execution_count": null,
   "metadata": {},
   "outputs": [],
   "source": []
  },
  {
   "cell_type": "code",
   "execution_count": null,
   "metadata": {},
   "outputs": [],
   "source": []
  },
  {
   "cell_type": "code",
   "execution_count": null,
   "metadata": {},
   "outputs": [],
   "source": []
  },
  {
   "cell_type": "code",
   "execution_count": null,
   "metadata": {},
   "outputs": [],
   "source": []
  },
  {
   "cell_type": "code",
   "execution_count": null,
   "metadata": {},
   "outputs": [],
   "source": []
  }
 ],
 "metadata": {
  "kernelspec": {
   "display_name": "Python 3",
   "language": "python",
   "name": "python3"
  },
  "language_info": {
   "codemirror_mode": {
    "name": "ipython",
    "version": 3
   },
   "file_extension": ".py",
   "mimetype": "text/x-python",
   "name": "python",
   "nbconvert_exporter": "python",
   "pygments_lexer": "ipython3",
   "version": "3.8.3"
  }
 },
 "nbformat": 4,
 "nbformat_minor": 4
}
