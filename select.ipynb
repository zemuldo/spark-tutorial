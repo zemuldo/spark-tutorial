{
 "cells": [
  {
   "cell_type": "code",
   "execution_count": 1,
   "metadata": {},
   "outputs": [
    {
     "name": "stdout",
     "output_type": "stream",
     "text": [
      "+--------------+\n",
      "|Country/Region|\n",
      "+--------------+\n",
      "|   Afghanistan|\n",
      "|       Albania|\n",
      "|       Algeria|\n",
      "+--------------+\n",
      "\n",
      "+--------------+------+---------+\n",
      "|Country/Region|Deaths|Recovered|\n",
      "+--------------+------+---------+\n",
      "|   Afghanistan|  1269|    25198|\n",
      "|       Albania|   144|     2745|\n",
      "|       Algeria|  1163|    18837|\n",
      "+--------------+------+---------+\n",
      "\n"
     ]
    }
   ],
   "source": [
    "import pyspark\n",
    "from pyspark import SQLContext\n",
    "sc = SparkContext.getOrCreate();\n",
    "sql = SQLContext(sc)\n",
    "\n",
    "df = (sql.read\n",
    "         .format(\"com.databricks.spark.csv\")\n",
    "         .option(\"header\", \"true\")\n",
    "         .load(\"covid_dataset/country_wise_latest.csv\"))\n",
    "df.select(\"Country/Region\").limit(3).show()\n",
    "df.select([\"Country/Region\", \"Deaths\", \"Recovered\"]).limit(3).show()"
   ]
  },
  {
   "cell_type": "code",
   "execution_count": null,
   "metadata": {},
   "outputs": [],
   "source": []
  }
 ],
 "metadata": {
  "kernelspec": {
   "display_name": "Python 3",
   "language": "python",
   "name": "python3"
  },
  "language_info": {
   "codemirror_mode": {
    "name": "ipython",
    "version": 3
   },
   "file_extension": ".py",
   "mimetype": "text/x-python",
   "name": "python",
   "nbconvert_exporter": "python",
   "pygments_lexer": "ipython3",
   "version": "3.8.3"
  }
 },
 "nbformat": 4,
 "nbformat_minor": 4
}
