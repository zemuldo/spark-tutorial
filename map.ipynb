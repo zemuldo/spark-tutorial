{
 "cells": [
  {
   "cell_type": "code",
   "execution_count": 19,
   "metadata": {},
   "outputs": [
    {
     "name": "stdout",
     "output_type": "stream",
     "text": [
      "+--------------+-----------+------------+----------------+-------------------+------------------+\n",
      "|country_name  |total_cases|total_deaths|total_recoveries|recovery_rate      |death_rate        |\n",
      "+--------------+-----------+------------+----------------+-------------------+------------------+\n",
      "|United States |4290259    |148011      |1325804         |30.902656459668286 |3.4499315775574386|\n",
      "|Brazil        |2442375    |87618       |1846641         |75.60841394134808  |3.5874097957930293|\n",
      "|United Kingdom|301708     |45844       |1437            |0.47628833176448754|15.194824134593713|\n",
      "|Mexico        |395489     |44022       |303810          |76.8188242909411   |11.131030193001576|\n",
      "|Italy         |246286     |35112       |198593          |80.63511527248808  |14.256595990027854|\n",
      "|India         |1480073    |33408       |951166          |64.26480315497952  |2.2571859631247917|\n",
      "|France        |220352     |30212       |81212           |36.855576532094105 |13.71079000871333 |\n",
      "|Spain         |272421     |28432       |150376          |55.19985610507266  |10.436787178668311|\n",
      "|Peru          |389717     |18418       |272547          |69.93459356404776  |4.725993477318156 |\n",
      "|Iran          |293606     |15912       |255144          |86.90013146870295  |5.419507775726654 |\n",
      "+--------------+-----------+------------+----------------+-------------------+------------------+\n",
      "\n"
     ]
    }
   ],
   "source": [
    "import pyspark\n",
    "from pyspark import SQLContext\n",
    "import pyspark.sql.functions as F\n",
    "from pyspark.sql import Row\n",
    "sc = SparkContext.getOrCreate();\n",
    "sql = SQLContext(sc)\n",
    "\n",
    "df = (sql.read\n",
    "         .format(\"com.databricks.spark.csv\")\n",
    "         .option(\"header\", \"true\")\n",
    "         .load(\"covid_dataset/country_wise_latest.csv\"))\n",
    "\n",
    "def map_function(x):\n",
    "    rec = {}\n",
    "    rec['country_name'] = x['Country/Region']\n",
    "    rec['total_cases'] = x['Confirmed']\n",
    "    rec['total_deaths'] = int(x['Deaths'])\n",
    "    rec['total_recoveries'] = x['Recovered']\n",
    "    rec['recovery_rate'] = ((int(x['Recovered'])) /int(x['Confirmed'])) * 100\n",
    "    rec['death_rate'] = ((int(x['Deaths'])) /int(x['Confirmed'])) * 100\n",
    "    return rec\n",
    "rdd=df.rdd.map(lambda x: Row(**dict(map_function(x))))\n",
    "df2=rdd.toDF()\n",
    "df2.sort(F.col('total_deaths').desc()).limit(10).show(truncate=False)\n",
    "\n",
    "\"\"\"\n",
    "+--------------+-----------+------------+----------------+-------------------+------------------+\n",
    "|country_name  |total_cases|total_deaths|total_recoveries|recovery_rate      |death_rate        |\n",
    "+--------------+-----------+------------+----------------+-------------------+------------------+\n",
    "|United States |4290259    |148011      |1325804         |30.902656459668286 |3.4499315775574386|\n",
    "|Brazil        |2442375    |87618       |1846641         |75.60841394134808  |3.5874097957930293|\n",
    "|United Kingdom|301708     |45844       |1437            |0.47628833176448754|15.194824134593713|\n",
    "|Mexico        |395489     |44022       |303810          |76.8188242909411   |11.131030193001576|\n",
    "|Italy         |246286     |35112       |198593          |80.63511527248808  |14.256595990027854|\n",
    "|India         |1480073    |33408       |951166          |64.26480315497952  |2.2571859631247917|\n",
    "|France        |220352     |30212       |81212           |36.855576532094105 |13.71079000871333 |\n",
    "|Spain         |272421     |28432       |150376          |55.19985610507266  |10.436787178668311|\n",
    "|Peru          |389717     |18418       |272547          |69.93459356404776  |4.725993477318156 |\n",
    "|Iran          |293606     |15912       |255144          |86.90013146870295  |5.419507775726654 |\n",
    "+--------------+-----------+------------+----------------+-------------------+------------------+\n",
    "\"\"\""
   ]
  },
  {
   "cell_type": "code",
   "execution_count": null,
   "metadata": {},
   "outputs": [],
   "source": []
  }
 ],
 "metadata": {
  "kernelspec": {
   "display_name": "Python 3",
   "language": "python",
   "name": "python3"
  }
 },
 "nbformat": 4,
 "nbformat_minor": 4
}
