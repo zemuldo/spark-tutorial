{
 "cells": [
  {
   "cell_type": "code",
   "execution_count": 11,
   "metadata": {},
   "outputs": [
    {
     "name": "stdout",
     "output_type": "stream",
     "text": [
      "root\n",
      " |-- Country/Region: string (nullable = true)\n",
      " |-- Confirmed: string (nullable = true)\n",
      " |-- Deaths: string (nullable = true)\n",
      " |-- Recovered: string (nullable = true)\n",
      " |-- Active: string (nullable = true)\n",
      " |-- New cases: string (nullable = true)\n",
      " |-- New deaths: string (nullable = true)\n",
      " |-- New recovered: string (nullable = true)\n",
      " |-- Deaths / 100 Cases: string (nullable = true)\n",
      " |-- Recovered / 100 Cases: string (nullable = true)\n",
      " |-- Deaths / 100 Recovered: string (nullable = true)\n",
      " |-- Confirmed last week: string (nullable = true)\n",
      " |-- 1 week change: string (nullable = true)\n",
      " |-- 1 week % increase: string (nullable = true)\n",
      " |-- WHO Region: string (nullable = true)\n",
      "\n",
      "+--------------+--------------------+--------------------+\n",
      "|Country/Region|          WHO Region|    CountryWHORegion|\n",
      "+--------------+--------------------+--------------------+\n",
      "|   Afghanistan|Eastern Mediterra...|AfghanistanEaster...|\n",
      "|       Albania|              Europe|       AlbaniaEurope|\n",
      "|       Algeria|              Africa|       AlgeriaAfrica|\n",
      "+--------------+--------------------+--------------------+\n",
      "\n",
      "+--------------+--------------------+--------------------+\n",
      "|Country/Region|          WHO Region|  Country-WHO-Region|\n",
      "+--------------+--------------------+--------------------+\n",
      "|   Afghanistan|Eastern Mediterra...|Afghanistan-Easte...|\n",
      "|       Albania|              Europe|      Albania-Europe|\n",
      "|       Algeria|              Africa|      Algeria-Africa|\n",
      "+--------------+--------------------+--------------------+\n",
      "\n"
     ]
    }
   ],
   "source": [
    "import pyspark\n",
    "from pyspark import SQLContext\n",
    "import pyspark.sql.functions as F\n",
    "sc = SparkContext.getOrCreate();\n",
    "sql = SQLContext(sc)\n",
    "\n",
    "df = (sql.read\n",
    "         .format(\"com.databricks.spark.csv\")\n",
    "         .option(\"header\", \"true\")\n",
    "         .load(\"covid_dataset/country_wise_latest.csv\"))\n",
    "\n",
    "df.printSchema()\n",
    "df.withColumn(\"CountryWHORegion\", F.concat(F.col(\"Country/Region\"), F.col('WHO Region')))\\\n",
    ".limit(3)\\\n",
    ".select(['Country/Region', 'WHO Region', 'CountryWHORegion']).show()\n",
    "\"\"\"\n",
    "+--------------+--------------------+--------------------+\n",
    "|Country/Region|          WHO Region|    CountryWHORegion|\n",
    "+--------------+--------------------+--------------------+\n",
    "|   Afghanistan|Eastern Mediterra...|AfghanistanEaster...|\n",
    "|       Albania|              Europe|       AlbaniaEurope|\n",
    "|       Algeria|              Africa|       AlgeriaAfrica|\n",
    "+--------------+--------------------+--------------------+\n",
    "\"\"\"\n",
    "df.withColumn(\"Country-WHO-Region\", F.concat_ws('-', F.col(\"Country/Region\"), F.col('WHO Region')))\\\n",
    ".limit(3)\\\n",
    ".select(['Country/Region', 'WHO Region', 'Country-WHO-Region']).show()\n",
    "\"\"\"\n",
    "+--------------+--------------------+--------------------+\n",
    "|Country/Region|          WHO Region|  Country-WHO-Region|\n",
    "+--------------+--------------------+--------------------+\n",
    "|   Afghanistan|Eastern Mediterra...|Afghanistan-Easte...|\n",
    "|       Albania|              Europe|      Albania-Europe|\n",
    "|       Algeria|              Africa|      Algeria-Africa|\n",
    "+--------------+--------------------+--------------------+\n",
    "\"\"\""
   ]
  },
  {
   "cell_type": "code",
   "execution_count": null,
   "metadata": {},
   "outputs": [],
   "source": []
  }
 ],
 "metadata": {
  "kernelspec": {
   "display_name": "Python 3",
   "language": "python",
   "name": "python3"
  },
  "language_info": {
   "codemirror_mode": {
    "name": "ipython",
    "version": 3
   },
   "file_extension": ".py",
   "mimetype": "text/x-python",
   "name": "python",
   "nbconvert_exporter": "python",
   "pygments_lexer": "ipython3",
   "version": "3.8.3"
  }
 },
 "nbformat": 4,
 "nbformat_minor": 4
}
