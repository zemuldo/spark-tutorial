{
 "cells": [
  {
   "cell_type": "code",
   "execution_count": 12,
   "metadata": {
    "scrolled": false
   },
   "outputs": [
    {
     "name": "stdout",
     "output_type": "stream",
     "text": [
      "+--------------+------+\n",
      "|Country/Region|Deaths|\n",
      "+--------------+------+\n",
      "|        Brazil| 87618|\n",
      "|        France| 30212|\n",
      "|         India| 33408|\n",
      "|         Italy| 35112|\n",
      "|        Mexico| 44022|\n",
      "| United States|148011|\n",
      "|United Kingdom| 45844|\n",
      "+--------------+------+\n",
      "\n",
      "+--------------+------+\n",
      "|Country/Region|Deaths|\n",
      "+--------------+------+\n",
      "|        France| 30212|\n",
      "|         Italy| 35112|\n",
      "|United Kingdom| 45844|\n",
      "+--------------+------+\n",
      "\n"
     ]
    }
   ],
   "source": [
    "import pyspark\n",
    "import pyspark.sql.functions as F\n",
    "from pyspark import SQLContext\n",
    "sc = SparkContext.getOrCreate();\n",
    "sql = SQLContext(sc)\n",
    "\n",
    "df = (sql.read\n",
    "         .format(\"com.databricks.spark.csv\")\n",
    "         .option(\"header\", \"true\")\n",
    "         .load(\"covid_dataset/country_wise_latest.csv\"))\n",
    "\n",
    "deathsG30k = df.where(F.col(\"Deaths\").cast(\"int\") > 30000)\n",
    "deathsG30k.select([\"Country/Region\", \"Deaths\"]).show()\n",
    "\n",
    "\"\"\"\n",
    "+--------------+------+\n",
    "|Country/Region|Deaths|\n",
    "+--------------+------+\n",
    "|        Brazil| 87618|\n",
    "|        France| 30212|\n",
    "|         India| 33408|\n",
    "|         Italy| 35112|\n",
    "|        Mexico| 44022|\n",
    "|            US|148011|\n",
    "|United Kingdom| 45844|\n",
    "+--------------+------+\n",
    "\"\"\"\n",
    "deathsG30kAndInEurope = deathsG30k.filter(F.col(\"WHO Region\") == \"Europe\")\n",
    "deathsG30kAndInEurope.select([\"Country/Region\", \"Deaths\"]).show()"
   ]
  },
  {
   "cell_type": "code",
   "execution_count": null,
   "metadata": {},
   "outputs": [],
   "source": []
  }
 ],
 "metadata": {
  "kernelspec": {
   "display_name": "Python 3",
   "language": "python",
   "name": "python3"
  },
  "language_info": {
   "codemirror_mode": {
    "name": "ipython",
    "version": 3
   },
   "file_extension": ".py",
   "mimetype": "text/x-python",
   "name": "python",
   "nbconvert_exporter": "python",
   "pygments_lexer": "ipython3",
   "version": "3.8.3"
  }
 },
 "nbformat": 4,
 "nbformat_minor": 4
}
