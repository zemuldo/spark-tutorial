{
 "cells": [
  {
   "cell_type": "code",
   "execution_count": 34,
   "metadata": {
    "scrolled": true
   },
   "outputs": [
    {
     "name": "stdout",
     "output_type": "stream",
     "text": [
      "+----------------------------+---------------------------+----------------+-------------+\n",
      "|df_case_lendability_quote_id|df_case_lendability_q_token|results_lendable|case_lendable|\n",
      "+----------------------------+---------------------------+----------------+-------------+\n",
      "|                         Jen|                    Finance|               1|         true|\n",
      "|                        Jeff|                  Marketing|               0|        false|\n",
      "|                     Michael|                      Sales|               2|         true|\n",
      "|                       James|                      Sales|               1|         true|\n",
      "|                       Maria|                    Finance|               0|        false|\n",
      "|                        Saif|                      Sales|               1|         true|\n",
      "|                       Scott|                    Finance|               1|         true|\n",
      "|                      Robert|                      Sales|               0|        false|\n",
      "|                       Kumar|                  Marketing|               0|        false|\n",
      "+----------------------------+---------------------------+----------------+-------------+\n",
      "\n"
     ]
    }
   ],
   "source": [
    "import pyspark\n",
    "from pyspark import SQLContext\n",
    "import pyspark.sql.functions as F\n",
    "import pyspark.sql.types as Types\n",
    "sc = SparkContext.getOrCreate();\n",
    "sql = SQLContext(sc)\n",
    "from pyspark.sql.window import Window\n",
    "\n",
    "spark = SparkSession.builder.appName('SparkByExamples.com').getOrCreate()\n",
    "\n",
    "simpleData = ((\"James\", \"Sales\", True), \\\n",
    "    (\"Michael\", \"Sales\", True),  \\\n",
    "    (\"Michael\", \"Sales\", True),  \\\n",
    "    (\"Robert\", \"Sales\", False),   \\\n",
    "    (\"Maria\", \"Finance\", None),  \\\n",
    "    (\"James\", \"Sales\", False),    \\\n",
    "    (\"Scott\", \"Finance\", True),  \\\n",
    "    (\"Jen\", \"Finance\", True),    \\\n",
    "    (\"Jeff\", \"Marketing\", False), \\\n",
    "    (\"Kumar\", \"Marketing\", False),\\\n",
    "    (\"Saif\", \"Sales\", True) \\\n",
    "  )\n",
    " \n",
    "columns= [\"quote_id\", \"df_ql_token\", \"lendable\"]\n",
    "df = spark.createDataFrame(data = simpleData, schema = columns)\n",
    "\n",
    "cnt_cond = lambda cond: F.sum(F.when(cond, 1).otherwise(0))\n",
    "df2 = df\\\n",
    "  .groupBy('quote_id', 'df_ql_token')\\\n",
    "    .agg(cnt_cond((F.col('lendable')  == True)).alias(\"results_lendable\"))\\\n",
    "    .withColumn('case_lendable', F.when(F.col('results_lendable') <= 0, False).otherwise(True))\\\n",
    "    .withColumnRenamed(\"quote_id\", \"df_case_lendability_quote_id\")\\\n",
    "    .withColumnRenamed(\"df_ql_token\", \"df_case_lendability_q_token\").show()\n",
    "\n"
   ]
  },
  {
   "cell_type": "code",
   "execution_count": null,
   "metadata": {},
   "outputs": [],
   "source": []
  },
  {
   "cell_type": "code",
   "execution_count": null,
   "metadata": {},
   "outputs": [],
   "source": []
  }
 ],
 "metadata": {
  "kernelspec": {
   "display_name": "Python 3",
   "language": "python",
   "name": "python3"
  },
  "language_info": {
   "codemirror_mode": {
    "name": "ipython",
    "version": 3
   },
   "file_extension": ".py",
   "mimetype": "text/x-python",
   "name": "python",
   "nbconvert_exporter": "python",
   "pygments_lexer": "ipython3",
   "version": "3.8.3"
  }
 },
 "nbformat": 4,
 "nbformat_minor": 4
}
