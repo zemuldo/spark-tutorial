{
 "cells": [
  {
   "cell_type": "code",
   "execution_count": 2,
   "metadata": {},
   "outputs": [
    {
     "name": "stdout",
     "output_type": "stream",
     "text": [
      "+-------------+----------+-----------+---------+---------+------+\n",
      "|  CountryName|Population|Urban Pop %|Confirmed|Recovered|Deaths|\n",
      "+-------------+----------+-----------+---------+---------+------+\n",
      "|United States| 331341050|         83|  4290259|  1325804|148011|\n",
      "|       Brazil| 212821986|         88|  2442375|  1846641| 87618|\n",
      "|        India|1382345085|         35|  1480073|   951166| 33408|\n",
      "|       Russia| 145945524|         74|   816680|   602249| 13334|\n",
      "| South Africa|  59436725|         67|   452529|   274925|  7067|\n",
      "+-------------+----------+-----------+---------+---------+------+\n",
      "\n"
     ]
    },
    {
     "data": {
      "text/plain": [
       "'\\n+-------------+----------+-----------+---------+---------+------+\\n|  CountryName|Population|Urban Pop %|Confirmed|Recovered|Deaths|\\n+-------------+----------+-----------+---------+---------+------+\\n|United States| 331341050|         83|  4290259|  1325804|148011|\\n|       Brazil| 212821986|         88|  2442375|  1846641| 87618|\\n|        India|1382345085|         35|  1480073|   951166| 33408|\\n|       Russia| 145945524|         74|   816680|   602249| 13334|\\n| South Africa|  59436725|         67|   452529|   274925|  7067|\\n+-------------+----------+-----------+---------+---------+------+\\n'"
      ]
     },
     "execution_count": 2,
     "metadata": {},
     "output_type": "execute_result"
    }
   ],
   "source": [
    "import pyspark\n",
    "from pyspark import SQLContext\n",
    "import pyspark.sql.functions as F\n",
    "import pyspark.sql.types as Types\n",
    "sc = SparkContext.getOrCreate();\n",
    "sql = SQLContext(sc)\n",
    "\n",
    "covid19Df = (sql.read\n",
    "         .format(\"com.databricks.spark.csv\")\n",
    "         .option(\"header\", \"true\")\n",
    "         .load(\"covid_dataset/country_wise_latest.csv\"))\n",
    "\n",
    "\n",
    "schema = Types.StructType([\n",
    "    Types.StructField('Country/Region', Types.StringType(), True),\n",
    "    Types.StructField('Population', Types.StringType(), True),\n",
    "    Types.StructField('Urban Pop %', Types.StringType(), True),\n",
    "    Types.StructField('World Share %', Types.StringType(), True),\n",
    "    Types.StructField('Med. Age', Types.StringType(), True)\n",
    "])\n",
    "\n",
    "\n",
    "populationsDf = spark\\\n",
    "    .read\\\n",
    "    .json(\"world_population/population.json\", schema, multiLine=True)\\\n",
    "    .withColumnRenamed(\"Country/Region\", \"CountryName\")\n",
    "\n",
    "joinedDf = populationsDf.join(covid19Df, (populationsDf.CountryName == covid19Df[\"Country/Region\"]))\n",
    "\n",
    "joinedDf\\\n",
    "  .select([\"CountryName\" ,\"Population\", \"Urban Pop %\", \"Confirmed\", \"Recovered\", \"Deaths\"])\\\n",
    "  .sort(F.col(\"Confirmed\").cast(\"int\").desc())\\\n",
    "  .limit(5)\\\n",
    "  .show()\n",
    "\"\"\"\n",
    "+-------------+----------+-----------+---------+---------+------+\n",
    "|  CountryName|Population|Urban Pop %|Confirmed|Recovered|Deaths|\n",
    "+-------------+----------+-----------+---------+---------+------+\n",
    "|United States| 331341050|         83|  4290259|  1325804|148011|\n",
    "|       Brazil| 212821986|         88|  2442375|  1846641| 87618|\n",
    "|        India|1382345085|         35|  1480073|   951166| 33408|\n",
    "|       Russia| 145945524|         74|   816680|   602249| 13334|\n",
    "| South Africa|  59436725|         67|   452529|   274925|  7067|\n",
    "+-------------+----------+-----------+---------+---------+------+\n",
    "\"\"\""
   ]
  },
  {
   "cell_type": "code",
   "execution_count": null,
   "metadata": {},
   "outputs": [],
   "source": []
  }
 ],
 "metadata": {
  "kernelspec": {
   "display_name": "Python 3",
   "language": "python",
   "name": "python3"
  },
  "language_info": {
   "codemirror_mode": {
    "name": "ipython",
    "version": 3
   },
   "file_extension": ".py",
   "mimetype": "text/x-python",
   "name": "python",
   "nbconvert_exporter": "python",
   "pygments_lexer": "ipython3",
   "version": "3.8.3"
  }
 },
 "nbformat": 4,
 "nbformat_minor": 4
}
