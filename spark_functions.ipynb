{
 "cells": [
  {
   "cell_type": "code",
   "execution_count": 2,
   "metadata": {},
   "outputs": [
    {
     "name": "stdout",
     "output_type": "stream",
     "text": [
      "+----+--------------------+--------------------+\n",
      "|year|             country|     life_expectancy|\n",
      "+----+--------------------+--------------------+\n",
      "|2015|\"\"\"name\"\"=>\"\"Afgh...|  \"\"gdp\"\"=>584.25921|\n",
      "|2014|\"\"\"name\"\"=>\"\"Afgh...| \"\"gdp\"\"=>612.696514|\n",
      "|2013|\"\"\"name\"\"=>\"\"Afgh...| \"\"gdp\"\"=>631.744976|\n",
      "|2012|\"\"\"name\"\"=>\"\"Afgh...|    \"\"gdp\"\"=>669.959|\n",
      "|2011|\"\"\"name\"\"=>\"\"Afgh...|  \"\"gdp\"\"=>63.537231|\n",
      "|2010|\"\"\"name\"\"=>\"\"Afgh...|  \"\"gdp\"\"=>553.32894|\n",
      "|2009|\"\"\"name\"\"=>\"\"Afgh...|\"\"gdp\"\"=>445.8932979|\n",
      "|2008|\"\"\"name\"\"=>\"\"Afgh...|\"\"gdp\"\"=>373.3611163|\n",
      "|2007|\"\"\"name\"\"=>\"\"Afgh...| \"\"gdp\"\"=>369.835796|\n",
      "|2006|\"\"\"name\"\"=>\"\"Afgh...|  \"\"gdp\"\"=>272.56377|\n",
      "|2005|\"\"\"name\"\"=>\"\"Afgh...| \"\"gdp\"\"=>25.2941299|\n",
      "|2004|\"\"\"name\"\"=>\"\"Afgh...|\"\"gdp\"\"=>219.1413528|\n",
      "|2003|\"\"\"name\"\"=>\"\"Afgh...|\"\"gdp\"\"=>198.7285436|\n",
      "|2002|\"\"\"name\"\"=>\"\"Afgh...|  \"\"gdp\"\"=>187.84595|\n",
      "|2001|\"\"\"name\"\"=>\"\"Afgh...|  \"\"gdp\"\"=>117.49698|\n",
      "|2000|\"\"\"name\"\"=>\"\"Afgh...|     \"\"gdp\"\"=>114.56|\n",
      "|2015|\"\"\"name\"\"=>\"\"Alba...| \"\"gdp\"\"=>3954.22783|\n",
      "|2014|\"\"\"name\"\"=>\"\"Alba...|\"\"gdp\"\"=>4575.763787|\n",
      "|2013|\"\"\"name\"\"=>\"\"Alba...| \"\"gdp\"\"=>4414.72314|\n",
      "|2012|\"\"\"name\"\"=>\"\"Alba...| \"\"gdp\"\"=>4247.61438|\n",
      "+----+--------------------+--------------------+\n",
      "only showing top 20 rows\n",
      "\n"
     ]
    }
   ],
   "source": [
    "import pyspark\n",
    "from pyspark import SQLContext\n",
    "sc = SparkContext.getOrCreate();\n",
    "sql = SQLContext(sc)\n",
    "\n",
    "\n",
    "df = (sql.read\n",
    "         .format(\"com.databricks.spark.csv\")\n",
    "         .option(\"header\", \"true\")\n",
    "         .load(\"life_expectancy/countries.json\"))\n",
    "\n",
    "df.show()"
   ]
  },
  {
   "cell_type": "code",
   "execution_count": null,
   "metadata": {},
   "outputs": [],
   "source": []
  }
 ],
 "metadata": {
  "kernelspec": {
   "display_name": "Python 3",
   "language": "python",
   "name": "python3"
  },
  "language_info": {
   "codemirror_mode": {
    "name": "ipython",
    "version": 3
   },
   "file_extension": ".py",
   "mimetype": "text/x-python",
   "name": "python",
   "nbconvert_exporter": "python",
   "pygments_lexer": "ipython3",
   "version": "3.8.3"
  }
 },
 "nbformat": 4,
 "nbformat_minor": 4
}
