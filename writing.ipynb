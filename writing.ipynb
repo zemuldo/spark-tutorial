{
 "cells": [
  {
   "cell_type": "code",
   "execution_count": 28,
   "metadata": {},
   "outputs": [],
   "source": [
    "import pyspark\n",
    "from pyspark import SQLContext\n",
    "import pyspark.sql.functions as F\n",
    "sc = SparkContext.getOrCreate();\n",
    "sql = SQLContext(sc)\n",
    "\n",
    "df = (sql.read\n",
    "         .format(\"com.databricks.spark.csv\")\n",
    "         .option(\"header\", \"true\")\n",
    "         .load(\"world_population/worldcities.csv\"))\\\n",
    "         .withColumnRenamed(\"Population\", \"city_population\")\\\n",
    "         .where(F.col(\"city_population\").cast(\"int\") > 0)\n",
    "\n",
    "# df.repartition(1).write.option(\"header\", \"true\").csv('outputs/countries-population-csv')\n",
    "\n",
    "# df.repartition(1).write.json(\"outputs/countries-population-json\")\n",
    "\n",
    "# df.repartition(1).write.parquet(\"outputs/countries-population-parquet\")\n",
    "\n",
    "# df.repartition(1).write.orc(\"outputs/countries-population-orc\")\n",
    "\n",
    "\n",
    "# Overwrite\n",
    "df.repartition(1).write.mode('overwrite').option(\"header\", \"true\").csv('outputs/countries-population-csv')\n",
    "\n",
    "df.repartition(1).write.mode('overwrite').json(\"outputs/countries-population-json\")\n",
    "\n",
    "df.repartition(1).write.mode('overwrite').parquet(\"outputs/countries-population-parquet\")\n",
    "\n",
    "df.repartition(1).write.mode('overwrite').orc(\"outputs/countries-population-orc\")\n",
    "\n",
    "df = (sql.read\n",
    "         .format(\"com.databricks.spark.csv\")\n",
    "         .option(\"header\", \"true\")\n",
    "         .load(\"covid_dataset/country_wise_latest.csv\"))\n",
    "\n",
    "df.write.partitionBy('WHO Region')\\\n",
    ".mode('overwrite')\\\n",
    ".json(\"outputs/countries-covid-json\")"
   ]
  },
  {
   "cell_type": "code",
   "execution_count": null,
   "metadata": {},
   "outputs": [],
   "source": []
  },
  {
   "cell_type": "code",
   "execution_count": null,
   "metadata": {},
   "outputs": [],
   "source": []
  }
 ],
 "metadata": {
  "kernelspec": {
   "display_name": "Python 3",
   "language": "python",
   "name": "python3"
  },
  "language_info": {
   "codemirror_mode": {
    "name": "ipython",
    "version": 3
   },
   "file_extension": ".py",
   "mimetype": "text/x-python",
   "name": "python",
   "nbconvert_exporter": "python",
   "pygments_lexer": "ipython3",
   "version": "3.8.3"
  }
 },
 "nbformat": 4,
 "nbformat_minor": 4
}
