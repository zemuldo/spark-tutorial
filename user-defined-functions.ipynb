{
 "cells": [
  {
   "cell_type": "code",
   "execution_count": 43,
   "metadata": {},
   "outputs": [
    {
     "name": "stdout",
     "output_type": "stream",
     "text": [
      "+-------------+-----------+-------------------+\n",
      "|      country|       city|TruncatedPopulation|\n",
      "+-------------+-----------+-------------------+\n",
      "|        Japan|      Tokyo|           35676000|\n",
      "|United States|   New York|           19354922|\n",
      "|       Mexico|Mexico City|           19028000|\n",
      "|        India|     Mumbai|           18978000|\n",
      "|       Brazil|  São Paulo|           18845000|\n",
      "+-------------+-----------+-------------------+\n",
      "\n"
     ]
    },
    {
     "data": {
      "text/plain": [
       "'\\n+-------------+-----------+-------------------+\\n|      country|       city|TruncatedPopulation|\\n+-------------+-----------+-------------------+\\n|        Japan|      Tokyo|           35676000|\\n|United States|   New York|           19354922|\\n|       Mexico|Mexico City|           19028000|\\n|        India|     Mumbai|           18978000|\\n|       Brazil|  São Paulo|           18845000|\\n+-------------+-----------+-------------------+\\n'"
      ]
     },
     "execution_count": 43,
     "metadata": {},
     "output_type": "execute_result"
    }
   ],
   "source": [
    "import pyspark\n",
    "from pyspark import SQLContext\n",
    "import pyspark.sql.functions as F\n",
    "import pyspark.sql.types as T\n",
    "\n",
    "from pyspark.sql.functions import udf\n",
    "\n",
    "sc = SparkContext.getOrCreate();\n",
    "sql = SQLContext(sc)\n",
    "\n",
    "df = (sql.read\n",
    "         .format(\"com.databricks.spark.csv\")\n",
    "         .option(\"header\", \"true\")\n",
    "         .load(\"world_population/worldcities.csv\"))\\\n",
    "         .withColumn(\"city_population\", F.col(\"population\").cast(\"float\"))\\\n",
    "         .where(F.col(\"city_population\").cast(\"int\") > 0)\n",
    "\n",
    "toInteger = udf(lambda z: toInt(z), T.IntegerType())\n",
    "spark.udf.register(\"toInteger\", toInteger)\n",
    "\n",
    "def toInt(s):\n",
    "   try:\n",
    "     return int(float(s))\n",
    "   except:\n",
    "     return 0\n",
    "df.withColumn(\"TruncatedPopulation\", toInteger('Population'))\\\n",
    ".limit(5)\\\n",
    ".select(['country', 'city', 'TruncatedPopulation']).show()\n",
    "\"\"\"\n",
    "+-------------+-----------+-------------------+\n",
    "|      country|       city|TruncatedPopulation|\n",
    "+-------------+-----------+-------------------+\n",
    "|        Japan|      Tokyo|           35676000|\n",
    "|United States|   New York|           19354922|\n",
    "|       Mexico|Mexico City|           19028000|\n",
    "|        India|     Mumbai|           18978000|\n",
    "|       Brazil|  São Paulo|           18845000|\n",
    "+-------------+-----------+-------------------+\n",
    "\"\"\""
   ]
  },
  {
   "cell_type": "code",
   "execution_count": null,
   "metadata": {},
   "outputs": [],
   "source": []
  },
  {
   "cell_type": "code",
   "execution_count": null,
   "metadata": {},
   "outputs": [],
   "source": []
  },
  {
   "cell_type": "code",
   "execution_count": null,
   "metadata": {},
   "outputs": [],
   "source": []
  },
  {
   "cell_type": "code",
   "execution_count": null,
   "metadata": {},
   "outputs": [],
   "source": []
  },
  {
   "cell_type": "code",
   "execution_count": null,
   "metadata": {},
   "outputs": [],
   "source": []
  }
 ],
 "metadata": {
  "kernelspec": {
   "display_name": "Python 3",
   "language": "python",
   "name": "python3"
  },
  "language_info": {
   "codemirror_mode": {
    "name": "ipython",
    "version": 3
   },
   "file_extension": ".py",
   "mimetype": "text/x-python",
   "name": "python",
   "nbconvert_exporter": "python",
   "pygments_lexer": "ipython3",
   "version": "3.8.3"
  }
 },
 "nbformat": 4,
 "nbformat_minor": 4
}
