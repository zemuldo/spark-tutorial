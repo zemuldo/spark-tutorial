{
 "cells": [
  {
   "cell_type": "code",
   "execution_count": 12,
   "metadata": {},
   "outputs": [
    {
     "name": "stdout",
     "output_type": "stream",
     "text": [
      "+---------+-------+----------+\n",
      "|     city|country|population|\n",
      "+---------+-------+----------+\n",
      "|   Berlin|Germany|   3406000|\n",
      "|Stuttgart|Germany|   2944700|\n",
      "|Frankfurt|Germany|   2895000|\n",
      "| Mannheim|Germany|   2362000|\n",
      "+---------+-------+----------+\n",
      "\n"
     ]
    }
   ],
   "source": [
    "import pyspark\n",
    "from pyspark import SQLContext\n",
    "sc = SparkContext.getOrCreate();\n",
    "sql = SQLContext(sc)\n",
    "\n",
    "\n",
    "df = (sql.read\n",
    "         .format(\"com.databricks.spark.csv\")\n",
    "         .option(\"header\", \"true\")\n",
    "         .load(\"world_population/worldcities.csv\"))\n",
    "df.createOrReplaceTempView(\"tmp_cities_view_table\")\n",
    "\n",
    "df = spark.sql(\"\"\"\n",
    "                SELECT\n",
    "                 city, country, population\n",
    "                FROM tmp_cities_view_table\n",
    "                WHERE \n",
    "                country = 'Germany' and CAST(population AS integer) > 2000000\n",
    "               \"\"\")\n",
    "df.show()"
   ]
  },
  {
   "cell_type": "code",
   "execution_count": null,
   "metadata": {},
   "outputs": [],
   "source": []
  }
 ],
 "metadata": {
  "kernelspec": {
   "display_name": "Python 3",
   "language": "python",
   "name": "python3"
  },
  "language_info": {
   "codemirror_mode": {
    "name": "ipython",
    "version": 3
   },
   "file_extension": ".py",
   "mimetype": "text/x-python",
   "name": "python",
   "nbconvert_exporter": "python",
   "pygments_lexer": "ipython3",
   "version": "3.8.3"
  }
 },
 "nbformat": 4,
 "nbformat_minor": 4
}
